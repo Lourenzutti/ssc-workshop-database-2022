{
 "cells": [
  {
   "cell_type": "markdown",
   "id": "884cfa80-2650-4d96-bd56-7851e028e1e5",
   "metadata": {
    "tags": []
   },
   "source": [
    "# SSC Data Science and Analytics Workshop 2022\n",
    "\n",
    "### Intro to Databases in Industry: Data Cleaning, Querying, and Modeling at Scale\n",
    "---------------"
   ]
  },
  {
   "cell_type": "markdown",
   "id": "d5550bd6-94a4-41f4-9711-2c0fbef07910",
   "metadata": {},
   "source": [
    "SQL is powerful, fast, and reliable. But unfortunately, queries can quickly become complex, even for routine data wrangling. \n",
    "\n",
    "Languages like R  and Python have powerful packages, such as `tidyverse` and `pandas`, that are designed to facilitate wrangling and cleaning data. The disadvantage is that they are not as fast as SQL. Luckily for us, we can connect R directly to the databases. Not only that, but we can use the usual `tidyverse` verbs, and `dbplyr` will generate the SQL queries for us! So we can have the best of both worlds! \n",
    "\n",
    "In this part of the workshop, we will explore the R$\\leftrightarrow$SQL interface. \n",
    "\n",
    "\n"
   ]
  },
  {
   "cell_type": "markdown",
   "id": "fe75e236-8e1d-4b00-9ae5-9a454bf5cac6",
   "metadata": {},
   "source": [
    "## 1. Connecting `R` to a database "
   ]
  },
  {
   "cell_type": "markdown",
   "id": "44a258a2-0c92-4165-bcf4-28592ef94038",
   "metadata": {},
   "source": [
    "We will use the `DBI` package to connect R to a database. There are many different database management systems (DBMS) vendors out there (e.g., Oracle, Microsoft, Postgres, MySQL). Although all these DBMS are somewhat similar, they have some differences. For this reason, we need to tell the `DBI` package which database we want to connect to. In our case here, we are using the `PostgreSQL` DBMS. We need to install the PostgreSQL backend for DBI, which is the package `RPostgres`. \n",
    "\n",
    "Finally, the package [dbplyr](https://dbplyr.tidyverse.org/) creates the interface with the database and converts the `dplyr` verbs into SQL queries. How does that work? Very similarly to if you had loaded the tables into R as data frames.\n",
    "\n",
    "\n",
    "Let's start by creating the connection."
   ]
  },
  {
   "cell_type": "code",
   "execution_count": 1,
   "id": "c0ad174c-9db1-47d1-8012-a9104cbc7d61",
   "metadata": {},
   "outputs": [
    {
     "name": "stderr",
     "output_type": "stream",
     "text": [
      "-- \u001b[1mAttaching packages\u001b[22m ------------------------------------------------------------------------------- tidyverse 1.3.1 --\n",
      "\n",
      "\u001b[32mv\u001b[39m \u001b[34mggplot2\u001b[39m 3.3.5     \u001b[32mv\u001b[39m \u001b[34mpurrr  \u001b[39m 0.3.4\n",
      "\u001b[32mv\u001b[39m \u001b[34mtibble \u001b[39m 3.1.6     \u001b[32mv\u001b[39m \u001b[34mdplyr  \u001b[39m 1.0.7\n",
      "\u001b[32mv\u001b[39m \u001b[34mtidyr  \u001b[39m 1.1.4     \u001b[32mv\u001b[39m \u001b[34mstringr\u001b[39m 1.4.0\n",
      "\u001b[32mv\u001b[39m \u001b[34mreadr  \u001b[39m 2.1.1     \u001b[32mv\u001b[39m \u001b[34mforcats\u001b[39m 0.5.1\n",
      "\n",
      "-- \u001b[1mConflicts\u001b[22m ---------------------------------------------------------------------------------- tidyverse_conflicts() --\n",
      "\u001b[31mx\u001b[39m \u001b[34mdplyr\u001b[39m::\u001b[32mfilter()\u001b[39m masks \u001b[34mstats\u001b[39m::filter()\n",
      "\u001b[31mx\u001b[39m \u001b[34mdplyr\u001b[39m::\u001b[32mlag()\u001b[39m    masks \u001b[34mstats\u001b[39m::lag()\n",
      "\n",
      "Warning message:\n",
      "\"package 'RPostgres' was built under R version 4.1.3\"\n"
     ]
    }
   ],
   "source": [
    "library(tidyverse) # dbplyr is part of tidyverse metapackage\n",
    "library(RPostgres)"
   ]
  },
  {
   "cell_type": "markdown",
   "id": "87d6350d-7cfe-49f3-9f49-1565e629b39c",
   "metadata": {},
   "source": [
    "**Exercise 1.1** \n",
    "\n",
    "Connect R to the imdb database located at [...]. "
   ]
  },
  {
   "cell_type": "code",
   "execution_count": 13,
   "id": "9f4831ec-2dc9-4fda-b127-fcf758a948fb",
   "metadata": {},
   "outputs": [],
   "source": [
    "# connection = dbConnect(\n",
    "#     drv = ..., \n",
    "#     user = ..., \n",
    "#     password = ..., \n",
    "#     port = 5432, # this is the default port for postgres \n",
    "#     dbname = ..., \n",
    "#     host = ...)\n",
    "\n",
    "### BEGIN SOLUTION\n",
    "connection = dbConnect(\n",
    "    drv = Postgres(), \n",
    "    user = \"postgres\", \n",
    "    password = \"1645\", \n",
    "    port = 5432, # this is the default port for postgres \n",
    "    dbname = \"imdb\", \n",
    "    host = \"localhost\")\n",
    "### END SOLUTION"
   ]
  },
  {
   "cell_type": "markdown",
   "id": "4d3d3c93-e508-4c85-a6ee-70b017a65d83",
   "metadata": {},
   "source": [
    "Congratulations!!! R is now connected to the database. "
   ]
  },
  {
   "cell_type": "markdown",
   "id": "ee164827-7856-46cc-820a-b4166c326270",
   "metadata": {},
   "source": [
    "## 2. Retrieving data from a database with R"
   ]
  },
  {
   "cell_type": "markdown",
   "id": "f06d79a7-7cb2-4a9a-9540-752a67a23648",
   "metadata": {},
   "source": [
    "Now that we have the connection ready to go, we can pull data from the database. But before we start pulling data from tables, it is useful to get some information about the database itself (e.g., what tables there are in a database, what are the fields of a table): \n",
    "\n",
    "- `dbListTables(connection)`: list all tables in the database accessed in connection;+\n",
    "- `dbListFields(connection, table_name)`: List all columns of `table_name` in the database "
   ]
  },
  {
   "cell_type": "markdown",
   "id": "879bdb9f-04ce-4eac-bccb-87bde73e3888",
   "metadata": {
    "tags": []
   },
   "source": [
    "**Exercise 2.1**\n",
    "\n",
    "List all tables of the `imdb` database. \n"
   ]
  },
  {
   "cell_type": "code",
   "execution_count": 14,
   "id": "14b3f1c5-3e0d-4381-a3b4-036e07d777b1",
   "metadata": {},
   "outputs": [
    {
     "data": {
      "text/html": [
       "<style>\n",
       ".list-inline {list-style: none; margin:0; padding: 0}\n",
       ".list-inline>li {display: inline-block}\n",
       ".list-inline>li:not(:last-child)::after {content: \"\\00b7\"; padding: 0 .5ex}\n",
       "</style>\n",
       "<ol class=list-inline><li>'principals'</li><li>'movies'</li><li>'acting_roles'</li><li>'names'</li><li>'aliases'</li><li>'crew_roles'</li><li>'movie_genres'</li></ol>\n"
      ],
      "text/latex": [
       "\\begin{enumerate*}\n",
       "\\item 'principals'\n",
       "\\item 'movies'\n",
       "\\item 'acting\\_roles'\n",
       "\\item 'names'\n",
       "\\item 'aliases'\n",
       "\\item 'crew\\_roles'\n",
       "\\item 'movie\\_genres'\n",
       "\\end{enumerate*}\n"
      ],
      "text/markdown": [
       "1. 'principals'\n",
       "2. 'movies'\n",
       "3. 'acting_roles'\n",
       "4. 'names'\n",
       "5. 'aliases'\n",
       "6. 'crew_roles'\n",
       "7. 'movie_genres'\n",
       "\n",
       "\n"
      ],
      "text/plain": [
       "[1] \"principals\"   \"movies\"       \"acting_roles\" \"names\"        \"aliases\"     \n",
       "[6] \"crew_roles\"   \"movie_genres\""
      ]
     },
     "metadata": {},
     "output_type": "display_data"
    }
   ],
   "source": [
    "# Your code goes here. \n",
    "\n",
    "### BEGIN SOLUTION\n",
    "dbListTables(connection)\n",
    "### END SOLUTION"
   ]
  },
  {
   "cell_type": "markdown",
   "id": "5573aabb-9e86-40fc-b210-7404cc317866",
   "metadata": {
    "tags": []
   },
   "source": [
    "**Exercise 2.2**\n",
    "\n",
    "List all columns from of the `movies` relation in the `imdb` database. (Note: relation is just another name for table in the database literature.) \n"
   ]
  },
  {
   "cell_type": "code",
   "execution_count": 16,
   "id": "9ce0fd8f-9c68-4510-9320-3ad4f77be71c",
   "metadata": {},
   "outputs": [
    {
     "data": {
      "text/html": [
       "<style>\n",
       ".list-inline {list-style: none; margin:0; padding: 0}\n",
       ".list-inline>li {display: inline-block}\n",
       ".list-inline>li:not(:last-child)::after {content: \"\\00b7\"; padding: 0 .5ex}\n",
       "</style>\n",
       "<ol class=list-inline><li>'id'</li><li>'title'</li><li>'orig_title'</li><li>'start_year'</li><li>'end_year'</li><li>'runtime'</li><li>'rating'</li><li>'nvotes'</li></ol>\n"
      ],
      "text/latex": [
       "\\begin{enumerate*}\n",
       "\\item 'id'\n",
       "\\item 'title'\n",
       "\\item 'orig\\_title'\n",
       "\\item 'start\\_year'\n",
       "\\item 'end\\_year'\n",
       "\\item 'runtime'\n",
       "\\item 'rating'\n",
       "\\item 'nvotes'\n",
       "\\end{enumerate*}\n"
      ],
      "text/markdown": [
       "1. 'id'\n",
       "2. 'title'\n",
       "3. 'orig_title'\n",
       "4. 'start_year'\n",
       "5. 'end_year'\n",
       "6. 'runtime'\n",
       "7. 'rating'\n",
       "8. 'nvotes'\n",
       "\n",
       "\n"
      ],
      "text/plain": [
       "[1] \"id\"         \"title\"      \"orig_title\" \"start_year\" \"end_year\"  \n",
       "[6] \"runtime\"    \"rating\"     \"nvotes\"    "
      ]
     },
     "metadata": {},
     "output_type": "display_data"
    }
   ],
   "source": [
    "# Your code goes here. \n",
    "\n",
    "### BEGIN SOLUTION\n",
    "dbListFields(connection, 'movies')\n",
    "### END SOLUTION"
   ]
  },
  {
   "cell_type": "markdown",
   "id": "5d403916-d04d-47cc-a18b-74d6c5797612",
   "metadata": {},
   "source": [
    "### 2.1 Wrangling data with `dbplyr`"
   ]
  },
  {
   "cell_type": "markdown",
   "id": "2547d095-1491-4c97-ac48-05ba8aae9545",
   "metadata": {},
   "source": [
    "With `dbplyr`, we can work with a database table like it was loaded into memory (but it isn't!). \n",
    "\n",
    "To \"read\" a table from a database we can use the [dplyr::tbl](https://dplyr.tidyverse.org/reference/tbl.html) function. "
   ]
  },
  {
   "cell_type": "markdown",
   "id": "82ad3c5d-d4d2-418f-bd0b-577e958b4301",
   "metadata": {},
   "source": [
    "**Example**\n",
    "\n",
    "Read the `movies` table from the `imdb` database."
   ]
  },
  {
   "cell_type": "code",
   "execution_count": 17,
   "id": "bb3a5cb0-4c34-463b-8e50-2843864dff2d",
   "metadata": {},
   "outputs": [
    {
     "data": {
      "text/plain": [
       "\u001b[90m# Source:   table<movies> [?? x 8]\u001b[39m\n",
       "\u001b[90m# Database: postgres [postgres@localhost:5432/imdb]\u001b[39m\n",
       "         id title         orig_title   start_year end_year runtime rating nvotes\n",
       "      \u001b[3m\u001b[90m<int>\u001b[39m\u001b[23m \u001b[3m\u001b[90m<chr>\u001b[39m\u001b[23m         \u001b[3m\u001b[90m<chr>\u001b[39m\u001b[23m             \u001b[3m\u001b[90m<int>\u001b[39m\u001b[23m    \u001b[3m\u001b[90m<int>\u001b[39m\u001b[23m   \u001b[3m\u001b[90m<int>\u001b[39m\u001b[23m  \u001b[3m\u001b[90m<dbl>\u001b[39m\u001b[23m  \u001b[3m\u001b[90m<int>\u001b[39m\u001b[23m\n",
       "\u001b[90m 1\u001b[39m 10\u001b[4m0\u001b[24m\u001b[4m3\u001b[24m\u001b[4m5\u001b[24m423 Kate & Leopo~ \u001b[31mNA\u001b[39m                 \u001b[4m2\u001b[24m001       \u001b[31mNA\u001b[39m     118    6.4  \u001b[4m7\u001b[24m\u001b[4m4\u001b[24m982\n",
       "\u001b[90m 2\u001b[39m 10\u001b[4m0\u001b[24m\u001b[4m4\u001b[24m\u001b[4m2\u001b[24m742 Mister 880    \u001b[31mNA\u001b[39m                 \u001b[4m1\u001b[24m950       \u001b[31mNA\u001b[39m      90    7.1   \u001b[4m1\u001b[24m171\n",
       "\u001b[90m 3\u001b[39m 10\u001b[4m0\u001b[24m\u001b[4m4\u001b[24m\u001b[4m1\u001b[24m181 Black Hand    \u001b[31mNA\u001b[39m                 \u001b[4m1\u001b[24m950       \u001b[31mNA\u001b[39m      92    6.4    666\n",
       "\u001b[90m 4\u001b[39m 10\u001b[4m0\u001b[24m\u001b[4m4\u001b[24m\u001b[4m1\u001b[24m387 Francis       \u001b[31mNA\u001b[39m                 \u001b[4m1\u001b[24m950       \u001b[31mNA\u001b[39m      91    6.4    979\n",
       "\u001b[90m 5\u001b[39m 10\u001b[4m0\u001b[24m\u001b[4m4\u001b[24m\u001b[4m1\u001b[24m719 Orpheus       Orphée             \u001b[4m1\u001b[24m950       \u001b[31mNA\u001b[39m      95    8     \u001b[4m9\u001b[24m346\n",
       "\u001b[90m 6\u001b[39m 10\u001b[4m0\u001b[24m\u001b[4m4\u001b[24m\u001b[4m1\u001b[24m931 Stromboli     Stromboli, ~       \u001b[4m1\u001b[24m950       \u001b[31mNA\u001b[39m     107    7.3   \u001b[4m5\u001b[24m239\n",
       "\u001b[90m 7\u001b[39m 10\u001b[4m0\u001b[24m\u001b[4m4\u001b[24m\u001b[4m2\u001b[24m052 Woman in Hid~ \u001b[31mNA\u001b[39m                 \u001b[4m1\u001b[24m950       \u001b[31mNA\u001b[39m      92    6.9    553\n",
       "\u001b[90m 8\u001b[39m 10\u001b[4m0\u001b[24m\u001b[4m4\u001b[24m\u001b[4m2\u001b[24m179 Abbott and C~ \u001b[31mNA\u001b[39m                 \u001b[4m1\u001b[24m950       \u001b[31mNA\u001b[39m      80    6.6   \u001b[4m2\u001b[24m573\n",
       "\u001b[90m 9\u001b[39m 10\u001b[4m0\u001b[24m\u001b[4m4\u001b[24m\u001b[4m2\u001b[24m200 Annie Get Yo~ \u001b[31mNA\u001b[39m                 \u001b[4m1\u001b[24m950       \u001b[31mNA\u001b[39m     107    6.9   \u001b[4m4\u001b[24m050\n",
       "\u001b[90m10\u001b[39m 10\u001b[4m0\u001b[24m\u001b[4m4\u001b[24m\u001b[4m2\u001b[24m206 Armored Car ~ \u001b[31mNA\u001b[39m                 \u001b[4m1\u001b[24m950       \u001b[31mNA\u001b[39m      67    7     \u001b[4m2\u001b[24m077\n",
       "\u001b[90m# ... with more rows\u001b[39m"
      ]
     },
     "metadata": {},
     "output_type": "display_data"
    }
   ],
   "source": [
    "(movies <- tbl(connection, 'movies'))"
   ]
  },
  {
   "cell_type": "markdown",
   "id": "a1476f67-e5db-42e1-9f12-fa5c4a47c783",
   "metadata": {},
   "source": [
    "### 2.2 Lazy Evaluation and writting your own SQL queries"
   ]
  },
  {
   "cell_type": "markdown",
   "id": "f6db5ab0-90ba-4207-a541-b414eabf5d90",
   "metadata": {},
   "source": [
    "- Is there correlation between `runtime` and `rating`. What about `runtime` and `nvotes`? "
   ]
  },
  {
   "cell_type": "markdown",
   "id": "d9d16e4b-1d39-40c7-a7af-751e6899d2cb",
   "metadata": {},
   "source": [
    "- What is the average `nvotes` for movies prior to 1990 and movies after 2010? Are people still interested in old movies? "
   ]
  },
  {
   "cell_type": "markdown",
   "id": "de7685ce-8a0b-414d-a665-82adefc1b437",
   "metadata": {},
   "source": [
    "- Contrast the average rating for movies starring at least 3 people over 60 years. "
   ]
  },
  {
   "cell_type": "markdown",
   "id": "30ed280e-dc5e-4ff6-9415-efe79a9f7a3b",
   "metadata": {},
   "source": [
    "### 2.2 Plotting with data from a database"
   ]
  },
  {
   "cell_type": "markdown",
   "id": "5cf20599-a55f-4d67-8036-5d17d9f596cb",
   "metadata": {
    "tags": []
   },
   "source": [
    "## 3. Writing to a database from R"
   ]
  }
 ],
 "metadata": {
  "kernelspec": {
   "display_name": "R",
   "language": "R",
   "name": "ir"
  },
  "language_info": {
   "codemirror_mode": "r",
   "file_extension": ".r",
   "mimetype": "text/x-r-source",
   "name": "R",
   "pygments_lexer": "r",
   "version": "4.1.2"
  }
 },
 "nbformat": 4,
 "nbformat_minor": 5
}
