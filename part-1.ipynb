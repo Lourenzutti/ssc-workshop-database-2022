{
 "cells": [
  {
   "cell_type": "markdown",
   "id": "7e3f47c1-a5e8-4c6b-8002-9f1f8159a052",
   "metadata": {},
   "source": [
    "# SSC Data Science and Analytics Workshop 2022\n",
    "\n",
    "### Intro to Databases in Industry: Data Cleaning, Querying, and Modeling at Scale\n",
    "-----------------"
   ]
  },
  {
   "cell_type": "markdown",
   "id": "ea599d02-42a9-470d-b841-55b1aa69c1d9",
   "metadata": {},
   "source": [
    "# 1. Introduction"
   ]
  },
  {
   "cell_type": "markdown",
   "id": "4d8ac27d-b848-4578-b0d5-b126368e6651",
   "metadata": {},
   "source": [
    "### 1.1 Workshop structure\n",
    "\n",
    "The workshop will be split in two parts. \n",
    "\n",
    "- In the first part, Arman and I will discuss\n",
    "    - what it is and why to use a Database Management Systems (DBMS);\n",
    "    - the basics of SQL queries;\n",
    "    - accessing a database from R;\n",
    "    \n",
    "    \n",
    "    \n",
    "- In the second part, Diego will:\n",
    "   - discuss the concept of a data warehouse;\n",
    "   - introduce the ETL (Extract, Transform, Load) and ELT (Extract, Load, Transform) processes;\n",
    "   - present dimensional modelling as methodology to guide the design of data warehouses at scale.\n",
    "   \n",
    "The workshop will be focused on the user aspect of databases, not on design and implementation. "
   ]
  },
  {
   "cell_type": "markdown",
   "id": "2cce8242-a9d0-4159-8780-261d22da0ab8",
   "metadata": {
    "tags": []
   },
   "source": [
    "### 1.2 Why use a Database management system (DBMS)?\n",
    "\n",
    "To analyze data, we need to first collect and store the data. In fact, depending on the scale of the dataset, we need much more than that. Curating a large dataset is not just about storing it, we also need to:\n",
    "\n",
    "- keep track of the relationship between the data entities;\n",
    "- avoid redundancies; \n",
    "- manage security issues to protect private and sensitive information;\n",
    "- have an error recovery system in place;\n",
    "- be able to retrieve data in an efficient manner;\n",
    "- have well controlled concurrent access;\n",
    "- keep the data in a consistent state;\n",
    "- enforce data integrity!"
   ]
  },
  {
   "cell_type": "markdown",
   "id": "bbe62947-26ba-4865-8cca-47d352d7e5ee",
   "metadata": {},
   "source": [
    "### 1.3 Database vs DBMS \n",
    "\n",
    "- A **database is a collection of data about different but related objects** (also called entities in database jargon), each entity with a common set of attributes. For example, a taxi company stores information about:\n",
    "  - Drivers (name, licence number, licence expiration);\n",
    "  - Cars (model, year);\n",
    "  - Clients (name, address, phone, e-mail);\n",
    "\n",
    "\n",
    "- Note that entities also interact among themselves (e.g., a driver drives a car).\n",
    "\n",
    "- A **DBMS is a software** responsible to assist the maintenance and usage of databases (yes, plural!)\n",
    "  - There are many different vendors of **relational** DBMS out there (e.g., PostgreSQL, MS Access, MS SQL Server, MySQL, etc…)\n",
    "  <img src=\"img/lecture1/flavours_sql.png\" width=\"700\"/>"
   ]
  },
  {
   "cell_type": "markdown",
   "id": "909766b6-31bf-46f5-85cd-73961d82ca55",
   "metadata": {},
   "source": [
    "---\n",
    "\n",
    "**Remember:**\n",
    "    \n",
    "database $\\ne$ database management system\n",
    "\n",
    "---"
   ]
  },
  {
   "cell_type": "markdown",
   "id": "fabf7a57-8dd7-4b4f-b2dd-1260a8973748",
   "metadata": {
    "tags": []
   },
   "source": [
    "### 1.4 PostgreSQL\n",
    "\n",
    "- In this workshop we will be using PostgreSQL as our RDBMS;\n",
    "\n",
    "\n",
    "- PostgreSQL is an open-source multi-platform (Windows, Linux, macOS) RDBMS with a high level of compliance with ANSI SQL (the langugae that practically all RDBMS use to create, modify and query databases);"
   ]
  },
  {
   "cell_type": "markdown",
   "id": "c3857409-00d6-45a6-a854-56813e0dcb70",
   "metadata": {
    "tags": []
   },
   "source": [
    "### 1.5 The client-server model"
   ]
  },
  {
   "cell_type": "markdown",
   "id": "ee4354f1-58bc-465f-8edf-b88a2cd9630b",
   "metadata": {},
   "source": [
    "Similar to most other DBMSs, Postgres works based on a **client-sever** model. In this model\n",
    "\n",
    "- The DBMS along with its databases and data are all stored on a host computer where the database server resides. This is typically a powerful machine with high processing power and large storage\n",
    "- Client hosts are usually personal computers with GUIs that can connect to a database server to access the data.\n",
    "\n",
    "In this model, the clients and the server are connected over a network. The heavy-lifting of processing, managing and storing large amounts of data is done by the server host, and clients only retrieve the data that they need.\n",
    "\n",
    "<img src=\"img/lecture1/client-server.png\" width=\"500\"/>\n",
    "\n",
    "> Although sometimes used interchangeably, there is a difference between a **client/server** and a **client/server host**. A host is a device, whereas a client/server is a piece of software. For example, you can simultaneously have multiple client programs connected to a remote database. Similarly, a remote host is a device (i.e. a computer) that might have several server programs running concurrently.\n",
    "\n",
    "The idea of client-server models for databases has become the standard of computation and storage today, known as **cloud computing**:\n",
    "\n",
    "- Today we rarely store movie or music files on our computers. This is why most of us have laptops with only 256/512 GB of space, because most of that takes up space is already provided as a cloud service (e.g. Netflix, Spotify, Youtube), or is stored on cloud storage spaces (e.g. One Drive, Dropbox, Google Drive).\n",
    "- We rarely run production-stage computation-intensive jobs on our own computers. All such computations are done on cloud-computing services (e.g. Google Cloud Platform, Amazon Web Services, Microsoft Azure). I personally haven't run a single simulation code on my own computer, neither ever stored any raw data locally. I use my computer mainly as an interface to access the services that I want.\n",
    "\n",
    "> Note that there are certain situations where one might want to **locally** benefit from the advantages of storing data in a database. A relational database engine that works only with local databases is SQLite. If you're curious to find out the use cases for **SQLite**, take a look [here](https://www.sqlite.org/whentouse.html).\n",
    "\n",
    "Whenever we use Postgres (or any other client-server DBMS), the first step before anything else is to **connect** to the database server. This is why we will talk about _host address_, _port_, _username_, and _password_ when we try to use a database."
   ]
  },
  {
   "cell_type": "markdown",
   "id": "02432046-5af6-4a64-a292-213556a58c61",
   "metadata": {
    "tags": []
   },
   "source": [
    "### 1.5 What is SQL?"
   ]
  },
  {
   "cell_type": "markdown",
   "id": "884bd651-7610-4a0b-a0b1-f7b473744eb7",
   "metadata": {},
   "source": [
    "Well, it's finally time to learn about SQL!\n",
    "\n",
    "- SQL stands for Structured Query Language ([or... does it?](https://en.wikipedia.org/wiki/SQL#History)).\n",
    "\n",
    "- It is a language that we use to talk to a relational DBMS.\n",
    "\n",
    "- Originally developed by IBM in 1970s to manipulate and retrieve data stored in their DBMS, System R.\n",
    "\n",
    "- Keep in mind that SQL is not set in stone and the SQL standard is updated from time to time (e.g., 1986, 1992, 1999, 2011, 2016);\n",
    "\n",
    "- There’s no DBMS that fully complies with the standard;"
   ]
  },
  {
   "cell_type": "markdown",
   "id": "0fe8eeb6-095e-43fe-92d0-b7d9acd5103b",
   "metadata": {
    "tags": []
   },
   "source": [
    "## 2. SQL"
   ]
  },
  {
   "cell_type": "markdown",
   "id": "1cc31fcb-a8c2-469a-b14c-4e8f07ce89ca",
   "metadata": {
    "tags": []
   },
   "source": [
    "Suppose that we have the following table in our database, and \n",
    "\n",
    "> we want to retrieve the names and GPAs of students older than 25.\n",
    "\n",
    "|  sid  | name      | login      | age | gpa |\n",
    "|-------|-----------|------------|-----|-----|\n",
    "| 23792 | Arman     | arman@mds  | 28  | 2.5 |\n",
    "| 82347 | Varada    | varada@mds | 29  | 2.9 |\n",
    "| 11238 | Tiffany   | tiff@mds   | 23  | 2.8 |\n",
    "| 87263 | Mike      | mike@mds   | 19  | 3.8 |\n",
    "| 13298 | Joel      | joel@mds   | 25  | 3.2 |\n",
    "| 91287 | Florencia | flor@mds   | 20  | 3.3 |\n",
    "\n",
    "We can write this as the following SQL query:\n",
    "\n",
    "```sql\n",
    "SELECT\n",
    "    name, age, gpa\n",
    "FROM\n",
    "    Students\n",
    "WHERE\n",
    "    age > 25;\n",
    "```\n",
    "\n",
    "Running the above query should return this relation:\n",
    "\n",
    "| name   | age | gpa |\n",
    "|--------|-----|-----|\n",
    "| Arman  | 28  | 2.5 |\n",
    "| Varada | 29  | 2.9 |"
   ]
  },
  {
   "cell_type": "markdown",
   "id": "a810ee48-6663-455b-82b8-de7e479d78bf",
   "metadata": {},
   "source": [
    "Let's dissect the different parts of our SQL query here."
   ]
  },
  {
   "cell_type": "markdown",
   "id": "03c2e7db-6967-4e06-9895-3d2e87bb6418",
   "metadata": {
    "tags": []
   },
   "source": [
    "### 2.1 The `SELECT` statement\n",
    "\n",
    "```sql\n",
    "-- A basic SELECT statement\n",
    "-- ===========================\n",
    "SELECT\n",
    "    name, age, gpa  -- column names\n",
    "FROM\n",
    "    Students        -- table name\n",
    "WHERE\n",
    "    age > 25;       -- condition\n",
    "```"
   ]
  },
  {
   "cell_type": "markdown",
   "id": "20926548-7854-436d-9e3c-2ce97ab1b838",
   "metadata": {},
   "source": [
    "- A SQL statement usually starts with a verb that describes what the statement is doing, e.g., `SELECT`, `UPDATE`, `INSERT`, `CREATE`, …\n",
    "\n",
    "- SQL is NOT case sensitive: “SELECT”, “select”, and “SeLeCt” are all the same;\n",
    "\n",
    "- A SQL command can use multiple lines;\n",
    "\n",
    "- Don't forget that every SQL statement needs to be terminated with a `;`.\n",
    "\n",
    "- SQL keywords are traditionally written in upper case letters, but that is not a requirement."
   ]
  },
  {
   "cell_type": "markdown",
   "id": "8d10b0c1-843a-4c93-b051-43585305e826",
   "metadata": {
    "tags": []
   },
   "source": [
    "### 2.1 How to run SQL in Postgres?"
   ]
  },
  {
   "cell_type": "markdown",
   "id": "f6abf68f-9d11-4a16-acf9-2223b3c93694",
   "metadata": {
    "tags": []
   },
   "source": [
    "Well, we have a variety of options to run our SQL statements in PostgreSQL:\n",
    "\n",
    "- pgAdmin is the official web-based GUI for interacting with PostgreSQL databases\n",
    "- `psql` is PostgreSQL's interactive command-line interface\n",
    "- `%sql` and `%%sql` magic commands in Jupyter notebooks, which are provided by the `ipython-sql` package\n",
    "- `DBI` and `RPostgres` packages in R;"
   ]
  },
  {
   "cell_type": "markdown",
   "id": "bf6f4e14-27b0-4cb5-8f66-7482ae331e52",
   "metadata": {
    "tags": []
   },
   "source": [
    "---------------------------\n",
    "### 2.1.1 `psql`"
   ]
  },
  {
   "cell_type": "markdown",
   "id": "86017410-2916-4bdf-8c0f-9580e6587f65",
   "metadata": {
    "tags": []
   },
   "source": [
    "This is PostgreSQL's command-line tool that allows us to interactively run SQL statements as well as \"meta\" commands. I introduce a couple of useful `psql` meta commands here, but you can find all the other ones in Postgres documentations [here](https://www.postgresql.org/docs/current/app-psql.html) or a shorter version in this [cheatsheet](http://www.postgresonline.com/downloads/special_feature/postgresql83_psql_cheatsheet.pdf).\n",
    "\n",
    "| Command | Usage                                         |\n",
    "|---------|-----------------------------------------------|\n",
    "| `\\l`    | list all databases                            |\n",
    "| `\\c`    | connect to a database                         |\n",
    "| `\\cd`   | change directory                              |\n",
    "| `\\!`    | execute shell commands                        |\n",
    "| `\\i`    | execute commands from file                    |\n",
    "| `\\d`    | list tables and views                         |\n",
    "| `\\d+`   | list tables and views with additional info    |\n",
    "| `\\dt`   | list tables                                   |\n",
    "| `\\dt+`  | list tables with additional info              |\n",
    "| `\\h`    | view help on SQL commands                     |\n",
    "| `\\?`    | view help on psql meta commands               |\n",
    "| `\\q`    | quit interactive shell                        |"
   ]
  },
  {
   "cell_type": "markdown",
   "id": "856d613c-be3f-4350-8e0c-e46c923f9261",
   "metadata": {},
   "source": [
    "> Note that you don't need to terminate meta commands with `;`."
   ]
  },
  {
   "cell_type": "markdown",
   "id": "a960b138-d5df-4cd3-b63a-3d95d8dad914",
   "metadata": {
    "tags": []
   },
   "source": [
    "### 2.1.2 `ipython-sql` (`%sql` and `%%sql`)"
   ]
  },
  {
   "cell_type": "markdown",
   "id": "5b39a962-28ff-4989-857f-d29be35e9da7",
   "metadata": {
    "tags": []
   },
   "source": [
    "`ipython-sql` is a package that enables us to run SQL statements right from a Jupyter notebook. In order to use it, we should load it first:"
   ]
  },
  {
   "cell_type": "code",
   "execution_count": null,
   "id": "e4cd94ea-59f0-4a53-b4e2-288b149c566a",
   "metadata": {},
   "outputs": [],
   "source": [
    "%load_ext sql\n",
    "%config SqlMagic.displaylimit = 30"
   ]
  },
  {
   "cell_type": "markdown",
   "id": "7f885ae4-e3a2-468a-a526-e057457c6fbd",
   "metadata": {
    "tags": []
   },
   "source": [
    "Now we need the host address of where the database is stored, along with a username and a password.\n",
    "\n",
    "It is always a bad idea to store login information directly in a notebook or code file because of security reasons. For example, you don't want to commit your sensitive login information to a Git repo.\n",
    "\n",
    "In order to avoid that, we store that kind of information in a separate file, like `credentials.json` here, and read the username and password into our IPython session:"
   ]
  },
  {
   "cell_type": "code",
   "execution_count": null,
   "id": "bf624010-6ed1-4de9-a4cb-9fa3e6fad8cc",
   "metadata": {},
   "outputs": [],
   "source": [
    "import json\n",
    "\n",
    "with open('credentials.json') as f:\n",
    "    credentials = json.load(f)\n",
    "    \n",
    "username = credentials['user']\n",
    "password = credentials['password']\n",
    "host = credentials['host']\n",
    "port = credentials['port']"
   ]
  },
  {
   "cell_type": "markdown",
   "id": "989c25e0-06b6-4966-97cf-df974f30fedf",
   "metadata": {},
   "source": [
    "And also make sure to add your file name (e.g. `credentials.json`) to your `.gitignore` file, so you don't accidentally commit it."
   ]
  },
  {
   "cell_type": "markdown",
   "id": "672c0ac9-680a-44f3-9f78-5938d6601183",
   "metadata": {},
   "source": [
    "Now we can establish the connection to the `world` database using the following code:"
   ]
  },
  {
   "cell_type": "code",
   "execution_count": null,
   "id": "a9fdad2a-a3d4-46e1-a54b-2dad34efce48",
   "metadata": {},
   "outputs": [],
   "source": [
    "%sql postgresql://{username}:{password}@{host}:{port}/world"
   ]
  },
  {
   "cell_type": "markdown",
   "id": "8847916e-daf2-4735-bc7c-4d4eb1ba5a7e",
   "metadata": {},
   "source": [
    "Note that we have used the `%sql` line magic to interpret the line in front of it as a magic command. \n",
    "\n",
    "We can also use `%%sql` cell magic to apply the magic to an entire notebook cell."
   ]
  },
  {
   "cell_type": "markdown",
   "id": "30a5a327-680b-43e3-8dda-eda5fe365f85",
   "metadata": {},
   "source": [
    "A limited number of `psql` meta commands (e.g. `\\l`, `d`) can also be executed here. This is made possible through the `pgspecial` package. For example, let's list all databases that exist on our PostgreSQL server:"
   ]
  },
  {
   "cell_type": "code",
   "execution_count": null,
   "id": "9ae4f58b-c89d-49af-8492-50144c67c934",
   "metadata": {},
   "outputs": [],
   "source": [
    "#%sql \\l"
   ]
  },
  {
   "cell_type": "markdown",
   "id": "ee1c87cf-0fd4-4a2a-92c1-f11458dbdae3",
   "metadata": {},
   "source": [
    "Or list the relations (i.e. tables) in the current database:"
   ]
  },
  {
   "cell_type": "code",
   "execution_count": null,
   "id": "8db38f49-a336-41b3-b39d-1aa876fb1f9c",
   "metadata": {},
   "outputs": [],
   "source": [
    "#%sql \\d"
   ]
  },
  {
   "cell_type": "markdown",
   "id": "0409626d-a858-47cd-b729-acb685e90a2a",
   "metadata": {},
   "source": [
    "---------------------------------------\n",
    "#### Wait, isn't this a workshop? Let's get to work then!!\n",
    "To learn you need to practice! "
   ]
  },
  {
   "cell_type": "markdown",
   "id": "1c185baa-a650-452d-b014-7961ca0ff9cb",
   "metadata": {},
   "source": [
    "**Exercise 1:**\n",
    "\n",
    "Retrieve the `name` and `population` columns from the `country` table:"
   ]
  },
  {
   "cell_type": "code",
   "execution_count": null,
   "id": "ad1aa818-700c-4a5b-b0bd-f01ec3b39e60",
   "metadata": {
    "scrolled": true,
    "tags": []
   },
   "outputs": [],
   "source": [
    "%%sql \n"
   ]
  },
  {
   "cell_type": "markdown",
   "id": "bdfe4f49-c3fc-49cf-ba1a-43349aa49cdb",
   "metadata": {},
   "source": [
    "**Exercise 2: `SELECT *`?**\n",
    "\n",
    "What happens if you replace your column list with * in the SELECT statement?"
   ]
  },
  {
   "cell_type": "code",
   "execution_count": null,
   "id": "988cb0e2-66d7-403b-803c-5028b6856b39",
   "metadata": {
    "scrolled": true,
    "tags": []
   },
   "outputs": [],
   "source": [
    "%%sql \n"
   ]
  },
  {
   "cell_type": "markdown",
   "id": "b4c614a9-3d1f-49a8-9074-4865e2ab039b",
   "metadata": {},
   "source": [
    "Use `*` with care, since this may cause an unnecessary burden to your network. \n",
    "Besides, it make your SQL code less readable. If someone is not highly familiar with the database, they might not know what is being returned. \n"
   ]
  },
  {
   "cell_type": "markdown",
   "id": "a5161334-eb6e-40b5-b1c7-a3f2dfa2f7e3",
   "metadata": {
    "tags": []
   },
   "source": [
    "**Exercise 3: `LIMIT` keyword**\n",
    "\n",
    "You can use the `LIMIT` keyword to limit the number of rows returned by the `SELECT` statement. \n",
    "Fill in the SQL query below to retrieve the `name` and `lifeexpectancy` columns from the `country` table, while limiting the number of rows to 10. "
   ]
  },
  {
   "cell_type": "code",
   "execution_count": null,
   "id": "6bff2d4c-40e3-46b0-8761-b1e2b47e5239",
   "metadata": {
    "tags": []
   },
   "outputs": [],
   "source": [
    "%%sql\n",
    "\n",
    "\n",
    "... name, ... \n",
    "   ... country\n",
    "   LIMIT ...;\n"
   ]
  },
  {
   "cell_type": "markdown",
   "id": "1e8862dd-7347-4daf-91fb-4a43e0c867aa",
   "metadata": {},
   "source": [
    "**Exercise 4: Aliases**\n",
    "\n",
    "As you can see in the previous exercise, `lifeexpectancy` is hard to read. \n",
    "We can rename the columns in the SELECT statement's output by using the `AS` keyword. \n",
    "This will not change the `country` table, only the output of the SELECT statement. \n",
    "\n",
    "Fill in the SQL query below to retrieve the `name` and `lifeexpectancy` columns from the country table. Rename `lifeexpectancy` to `life_expectancy`. Again, limit the output to 15 rows."
   ]
  },
  {
   "cell_type": "code",
   "execution_count": null,
   "id": "6cc04d43-6433-4b38-930e-aca3f297f920",
   "metadata": {},
   "outputs": [],
   "source": [
    "%%sql\n",
    "\n",
    "...\n",
    "    name,\n",
    "    ... ... life_expectancy\n",
    "  FROM ...\n",
    "  ...;\n",
    "\n"
   ]
  },
  {
   "cell_type": "markdown",
   "id": "20b4c0f1-c1bb-49eb-bc59-f168f7aefe78",
   "metadata": {},
   "source": [
    "**Exercise 5: `DISTINCT`**\n",
    "\n",
    "What are the continents in the present in the `country` table? We can add the `DISTINCT` modifier to the `SELECT` clause to return only distinct results.  \n",
    "\n",
    "> Note: `DISTINCT` is applied to **all columns** that we list in front of `SELECT`, and returns all distinct combinations of values stored in those columns."
   ]
  },
  {
   "cell_type": "code",
   "execution_count": null,
   "id": "8b4b9c7b-b8ca-48a8-8924-f4555b47a8f7",
   "metadata": {},
   "outputs": [],
   "source": [
    "%%sql\n",
    "\n",
    "... DISTINCT ...\n",
    "  FROM ...;\n",
    "  \n"
   ]
  },
  {
   "cell_type": "markdown",
   "id": "11b9cce7-1572-46c1-9d6d-42fd60f42f76",
   "metadata": {},
   "source": [
    "**Exercise 6: Filtering with `WHERE`**\n",
    "\n",
    "- The `WHERE` clause allows us to filter the rows we want;\n",
    "- We can specify a condition (a Boolean expression) in the `WHERE` clause to retrieve only the rows for which the condition is true;\n",
    "- Remember the filter verb in dplyr? It is the same idea!!\n",
    "\n",
    "Retrieve the countries with a population higher than 150 million people. \n"
   ]
  },
  {
   "cell_type": "code",
   "execution_count": null,
   "id": "76321659-c17e-4e5e-8018-8fc30f638d76",
   "metadata": {},
   "outputs": [],
   "source": [
    "%%sql\n",
    "\n",
    "... ...\n",
    "  FROM ...\n",
    "  ... population > 150000000;\n",
    "\n"
   ]
  },
  {
   "cell_type": "markdown",
   "id": "d76c51f7-2f6c-4290-a197-f989df08fed5",
   "metadata": {},
   "source": [
    "- Some comparisons operator to use in `WHERE` clause\n",
    "\n",
    "Operator | Condition |\n",
    "---------|-----------|\n",
    "`<`, `<=`, `=`, `>=`, `>` | ordinal comparisons | \n",
    "`LIKE`, `ILIKE`, `SIMILAR TO` | Pattern Matching | \n",
    "`BETWEEN` | Range filtering | \n",
    "`IN` | check belonginess (similar to `%in% `in R) |\n",
    "`IS NULL` | check if is NULL |"
   ]
  },
  {
   "cell_type": "markdown",
   "id": "a4df8d72-1aa5-4025-ae70-85d0ccc622e1",
   "metadata": {},
   "source": [
    "**Exercise 7: derived columns**\n",
    "\n",
    "SQL is able to make operations using columns. \n",
    "\n",
    "Retrieve the `name` column and `gnp_per_capita` by dividing the `gnp` column by the `population` column. \n",
    "Make sure to only calculate this for rows with population higher than 0. Remember to rename the column as `gnp_per_capita`. "
   ]
  },
  {
   "cell_type": "code",
   "execution_count": null,
   "id": "ba03f2e8-f745-4589-8610-805ea994a607",
   "metadata": {},
   "outputs": [],
   "source": [
    "%%sql\n",
    "\n",
    "\n",
    "...\n",
    "    name,\n",
    "    ... ... gnp_per_capita\n",
    "  FROM ...\n",
    "  ... ...\n",
    "  LIMIT 15;\n"
   ]
  },
  {
   "cell_type": "markdown",
   "id": "7f2b4384-5cd6-4295-afb7-56e1f20de1af",
   "metadata": {},
   "source": [
    "> Remember:  the `SELECT` statement is powerful, but not dangerous. Derived columns returned by Postgres are not saved anywhere, nor do they change existing columns."
   ]
  },
  {
   "cell_type": "markdown",
   "id": "431994d3-af2b-4bd8-9d49-51b686185c4c",
   "metadata": {},
   "source": [
    "**Exercise 8: Arranging with `ORDER BY`**\n",
    "\n",
    "What are the countries with the highest `gnp_per_capita`? \n",
    "You can use the `ORDER BY` clause to rearrange the rows that is returned. By default, it will arrange the rows in ascending order. \n",
    "If you want in descend order you can add the `DESC` keyword. \n",
    "\n",
    "Retrieve the `name` column and `gnp_per_capita` by dividing the `gnp` column by the `population` column. \n",
    "1. Make sure to only calculate this for rows with population higher than 0. \n",
    "2. Remember to rename the column as `gnp_per_capita`. \n",
    "3. Order the rows in descending order. "
   ]
  },
  {
   "cell_type": "code",
   "execution_count": null,
   "id": "ab89055a-dd47-401a-afa6-95a09c64e024",
   "metadata": {},
   "outputs": [],
   "source": [
    "%%sql\n",
    "\n",
    "\n",
    "...\n",
    "    name,\n",
    "    ... ... gnp_per_capita\n",
    "  FROM ...\n",
    "  ... population > 0\n",
    "  ORDER BY ... DESC\n",
    "  LIMIT 15;\n"
   ]
  },
  {
   "cell_type": "markdown",
   "id": "f060bf5c-a2fb-4e3d-bc39-570ad5919dbb",
   "metadata": {},
   "source": [
    "> Note: if there’s a draw in `ORDER BY`, the rows are presented in arbitrary order;\n"
   ]
  },
  {
   "cell_type": "markdown",
   "id": "efb7d60a-30ad-4a69-9071-61d059d9c954",
   "metadata": {},
   "source": [
    "---  \n",
    "**Remember:**\n",
    "\n",
    "The order of SQL keywords does matter: `SELECT`, `FROM`, `WHERE`, `ORDER BY`, `LIMIT`\n",
    "    \n",
    "---"
   ]
  },
  {
   "cell_type": "markdown",
   "id": "4f2ae4d4-e073-4629-bd39-08d6a75a07af",
   "metadata": {
    "tags": []
   },
   "source": [
    "## Data Types\n",
    "\n",
    "We will not cover data types in detail. You can find all data types supported by PostgreSQL [here](https://www.postgresql.org/docs/current/datatype.html).\n",
    "\n",
    "One thing that is worth noting is the `CAST` function, to convert from one data type to another. "
   ]
  },
  {
   "cell_type": "markdown",
   "id": "5cda444f-0ff2-48fa-ac59-fab3c7c83e5c",
   "metadata": {},
   "source": [
    "**Example**"
   ]
  },
  {
   "cell_type": "code",
   "execution_count": null,
   "id": "75e86031-f9b9-4c16-9f89-7bd602fedbfc",
   "metadata": {},
   "outputs": [],
   "source": [
    "%%sql \n",
    "\n",
    "SELECT CAST('1.2587465416874' AS NUMERIC(5,2));"
   ]
  },
  {
   "cell_type": "markdown",
   "id": "8eb96e95-d1e8-4139-88fe-b86ccf3f93f8",
   "metadata": {
    "tags": []
   },
   "source": [
    "### Nulls"
   ]
  },
  {
   "cell_type": "markdown",
   "id": "b480b153-e4e9-4e31-9a64-64affc828ce9",
   "metadata": {},
   "source": [
    "- A null is marker to indicate that the value for a column is unknown, or not entered yet. A null is not equal to 0, or an empty string. In fact, **a null is not even equal to another null**!\n",
    "\n",
    "- In `ORDER BY`, `NULL` values are considered either: the highest or the smallest possible value, depending on the DBMS. PostgreSQL treats `NULL` the highest possible value.\n",
    "\n",
    "- Use `IS NULL` to match `NULL`. Do not try using equality. A `NULL` is not equal to another `NULL`.\n",
    "\n",
    "- Although `NULL`s are not equal to each other, `DISTINC` treats them as if they were!"
   ]
  },
  {
   "cell_type": "markdown",
   "id": "af68fae0-28e6-487a-9d48-b5eb93c6e49c",
   "metadata": {},
   "source": [
    "- How different environments show nulls:\n",
    "  - `ipython-sql` -> `None`\n",
    "  - psql -> blank space\n",
    "  - pgAdmin -> `[null]`"
   ]
  },
  {
   "cell_type": "markdown",
   "id": "d318a662-d2bb-4bea-9da3-2bc2212eaab5",
   "metadata": {},
   "source": [
    "------------------------"
   ]
  },
  {
   "cell_type": "markdown",
   "id": "f09b9141-bb4a-4d73-8c9d-102eff6394dd",
   "metadata": {},
   "source": [
    "## `imdb` database \n",
    "Let's continue exploring the `WHERE` clause, but to keep things interesting, let's use another database. "
   ]
  },
  {
   "cell_type": "code",
   "execution_count": null,
   "id": "7f66513e-3f87-487a-be3d-e8f1556fb241",
   "metadata": {},
   "outputs": [],
   "source": [
    "%config SqlMagic.displaylimit = 20"
   ]
  },
  {
   "cell_type": "code",
   "execution_count": null,
   "id": "1e41a374-c059-4d94-9abb-a36373c02b33",
   "metadata": {
    "tags": []
   },
   "outputs": [],
   "source": [
    "%sql postgresql://{username}:{password}@{host}:{port}/imdb"
   ]
  },
  {
   "cell_type": "code",
   "execution_count": null,
   "id": "58caca8d-5758-4e0f-865f-0067db599a8c",
   "metadata": {},
   "outputs": [],
   "source": [
    "%%sql\n",
    "\n",
    "/* Lets take a look at the movies table */\n",
    "\n",
    "SELECT *\n",
    "  FROM movies;"
   ]
  },
  {
   "cell_type": "markdown",
   "id": "60f2f315-0105-43d2-938b-2b648af14bd6",
   "metadata": {
    "tags": []
   },
   "source": [
    "### Pattern matching"
   ]
  },
  {
   "cell_type": "markdown",
   "id": "c4394868-9b65-42f5-88d5-5f844f4b1c13",
   "metadata": {},
   "source": [
    "It is a quite common situation that we want to find rows for which the values of one or more columns match a particular pattern. In SQL, this can be done either using `LIKE` or by using regular expressions. The syntax is as follows:\n",
    "\n",
    "```sql\n",
    "SELECT\n",
    "    column1, column2\n",
    "FROM\n",
    "    table1\n",
    "WHERE\n",
    "    column1 [NOT] LIKE '<pattern>'\n",
    ";\n",
    "```\n",
    "\n",
    "Postgres provides us with two wild-cards that we can use with `LIKE`:\n",
    "- `%` matches any string of characters\n",
    "- `_` matches a single character.\n",
    "\n",
    "Pattern matching with `LIKE` is case sensitive; however, Postgres also provides the `ILIKE` keyword that has the same functionality as `LIKE` but is case-insensitive (not part of standard SQL).\n",
    "\n",
    "> **Note:** With `LIKE` or `ILIKE`, the entire string should match the pattern."
   ]
  },
  {
   "cell_type": "markdown",
   "id": "f7a3c652-ad09-416a-bd71-ce5c8b6c7408",
   "metadata": {},
   "source": [
    "---\n",
    "\n",
    "**Example:** Retrieve those movies from the `movie` table whose title contains the word `'violin'` (note that `LIKE` is picky about letter cases in strings!)\n",
    "\n",
    "---"
   ]
  },
  {
   "cell_type": "code",
   "execution_count": null,
   "id": "dba64f09-19ff-45cb-b039-12efaff56f79",
   "metadata": {},
   "outputs": [],
   "source": [
    "%%sql\n",
    "\n",
    "SELECT\n",
    "    *\n",
    "FROM\n",
    "    movies\n",
    "WHERE\n",
    "    title ILIKE '%Violin%'\n",
    ";"
   ]
  },
  {
   "cell_type": "markdown",
   "id": "3c27fae4-3f7c-492b-b7c3-ef02f7f9a533",
   "metadata": {},
   "source": [
    "\n",
    "**Exercise 9:** \n",
    "\n",
    "Retrieve those movies from the `movie` table whose title starts with the word `'Zero'`."
   ]
  },
  {
   "cell_type": "code",
   "execution_count": null,
   "id": "289fbea2-e681-40db-8883-f8423943a17a",
   "metadata": {
    "tags": []
   },
   "outputs": [],
   "source": [
    "%%sql\n"
   ]
  },
  {
   "cell_type": "markdown",
   "id": "258171b4-1551-4877-bbf2-3b4eac0721ba",
   "metadata": {},
   "source": [
    "**Exercise 10:** \n",
    "\n",
    "Retrieve those movies from the `movie` table whose title is 4 letters long and ends with the letter `'e'`."
   ]
  },
  {
   "cell_type": "code",
   "execution_count": null,
   "id": "4d82a2aa-d449-43f8-ac0f-55f0b0623b05",
   "metadata": {
    "tags": []
   },
   "outputs": [],
   "source": [
    "%%sql\n"
   ]
  },
  {
   "cell_type": "markdown",
   "id": "293a8535-53fa-4649-9443-2f37339a4c0c",
   "metadata": {
    "tags": []
   },
   "source": [
    "## The relational model"
   ]
  },
  {
   "cell_type": "markdown",
   "id": "1a73c8df-4b30-47d4-a482-bc440f0b1c8e",
   "metadata": {},
   "source": [
    "SQL databases are based on the so-called relational model, it is based on the set theory in mathematics was introduced by by Edgar Codd (IBM) in 1970 ([more details here](https://en.wikipedia.org/wiki/Relational_model)). \n",
    "It's foundations in **set theory** is the reason you will here words like \"tuples\", \"domain\", \"union\", \"cross product\", etc.\n",
    "\n",
    "We don't have time to cover the relational model in detail. But there are three things that you should keep in mind:\n",
    "\n",
    "\n",
    "- **All operations** your perform in SQL result in a table (it could be an empty table).\n",
    "\n",
    "\n",
    "- Primary keys: is one or more columns which uniquely identify each row (i.e., they are different for all rows); \n",
    "  - Examples: id, driver's license, SIN, license plate\n",
    "\n",
    "\n",
    "- Foreign key: is one or more columns that uniquely identify each row of another table. For example\n",
    "  - `id` in the `movies` table uniquely identify the movies;\n",
    "  - `id` in the `names` table uniquely identify people; \n",
    "  - the `acting_roles` table relates people to movies using these primary keys to guarantee that there is no people working on a movie that doesn't exist, nor movies with people that don't exist (referential integrity);"
   ]
  },
  {
   "cell_type": "code",
   "execution_count": null,
   "id": "f5a51f80-a21a-43c6-a9d4-e4404cae3108",
   "metadata": {},
   "outputs": [],
   "source": [
    "%sql select * from names LIMIT 5;"
   ]
  },
  {
   "cell_type": "code",
   "execution_count": null,
   "id": "51383541-3184-44e4-95c2-671a0209b5db",
   "metadata": {},
   "outputs": [],
   "source": [
    "%sql select * from movies LIMIT 5;"
   ]
  },
  {
   "cell_type": "code",
   "execution_count": null,
   "id": "dfd02aa5-7089-4a1a-937c-af65ef8d7922",
   "metadata": {},
   "outputs": [],
   "source": [
    "%sql select * from acting_roles LIMIT 5;"
   ]
  },
  {
   "cell_type": "markdown",
   "id": "b077ca7c-0e8a-420c-9d4e-989d9fbb8e86",
   "metadata": {},
   "source": [
    "There are also other useful models, which are less structured, which are known as `NoSQL` Databases. But this is outside the scope of this workshop."
   ]
  }
 ],
 "metadata": {
  "kernelspec": {
   "display_name": "Python 3 (ipykernel)",
   "language": "python",
   "name": "python3"
  },
  "language_info": {
   "codemirror_mode": {
    "name": "ipython",
    "version": 3
   },
   "file_extension": ".py",
   "mimetype": "text/x-python",
   "name": "python",
   "nbconvert_exporter": "python",
   "pygments_lexer": "ipython3",
   "version": "3.10.1"
  }
 },
 "nbformat": 4,
 "nbformat_minor": 5
}
